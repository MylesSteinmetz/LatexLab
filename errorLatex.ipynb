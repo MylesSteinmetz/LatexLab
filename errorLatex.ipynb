{
 "cells": [
  {
   "cell_type": "code",
   "execution_count": 4,
   "metadata": {},
   "outputs": [
    {
     "name": "stdout",
     "output_type": "stream",
     "text": [
      "3.513313853317811e-05\n"
     ]
    }
   ],
   "source": [
    "import numpy as np\n",
    "def rule1(c, errA):\n",
    "    errQ = errA * np.abs(c)\n",
    "    return errQ\n",
    "\n",
    "def rule2(c, m, a, errA):\n",
    "    errQ = np.abs(c * m * a ^ (m - 1)) * errA\n",
    "    return errQ\n",
    "    \n",
    "def rule3(errA, errB):\n",
    "    errQ = np.sqrt(errA**2 + errB**2)\n",
    "    return errQ\n",
    "\n",
    "def rule4(q, a, errA, m, b, errB, n):\n",
    "    errQ = np.abs(q) * np.sqrt((m*(errA/a))**2 + (n*(errB/b))**2)\n",
    "    return errQ\n",
    "\n",
    "print(rule4(.3199, .0859, .0001, .09434, 1, 1, 0))"
   ]
  },
  {
   "cell_type": "markdown",
   "metadata": {},
   "source": []
  },
  {
   "cell_type": "code",
   "execution_count": 8,
   "metadata": {},
   "outputs": [
    {
     "name": "stdout",
     "output_type": "stream",
     "text": [
      "1.1166666666666667\n",
      "0.17950549357115014\n",
      "0.073282810879294\n"
     ]
    }
   ],
   "source": [
    "import numpy as np\n",
    "\n",
    "x = np.array([1.1, 1.3, 1.4, 0.9, .95, 1.05])\n",
    "print(np.average(x))\n",
    "print(np.std(x))\n",
    "print((np.std(x)/np.sqrt(len(x))))"
   ]
  },
  {
   "cell_type": "markdown",
   "metadata": {},
   "source": [
    "The mean of the dataset is 1.117, the standard deviation is 0.179 and the error in the mean is 0.0733"
   ]
  },
  {
   "cell_type": "markdown",
   "metadata": {},
   "source": [
    "$\\delta Q = \\sqrt{(\\frac{\\delta A}{A})^2 + (\\frac{\\delta B}{B})^2)}$"
   ]
  },
  {
   "cell_type": "code",
   "execution_count": null,
   "metadata": {},
   "outputs": [],
   "source": []
  }
 ],
 "metadata": {
  "kernelspec": {
   "display_name": "Python 3",
   "language": "python",
   "name": "python3"
  },
  "language_info": {
   "codemirror_mode": {
    "name": "ipython",
    "version": 3
   },
   "file_extension": ".py",
   "mimetype": "text/x-python",
   "name": "python",
   "nbconvert_exporter": "python",
   "pygments_lexer": "ipython3",
   "version": "3.7.3"
  }
 },
 "nbformat": 4,
 "nbformat_minor": 2
}
